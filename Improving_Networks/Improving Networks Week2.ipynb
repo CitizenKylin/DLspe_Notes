{
 "cells": [
  {
   "cell_type": "markdown",
   "id": "d0d5609b",
   "metadata": {},
   "source": [
    "# Week 1 Practical Aspect of Deep Learning"
   ]
  },
  {
   "cell_type": "markdown",
   "id": "ca0b7fe7",
   "metadata": {},
   "source": [
    "## Quiz"
   ]
  },
  {
   "cell_type": "markdown",
   "id": "15478086",
   "metadata": {},
   "source": [
    "If your Neural Network model seems to have high bias, what of the following would be promising things to try? (Check all that apply.)\n",
    "\n",
    "Correct:\n",
    "1. Increasing numbers of units in each hidden layer\n",
    "2. Make the neuron network deeper\n",
    "\n",
    "Wrong:\n",
    "Get more training data"
   ]
  },
  {
   "cell_type": "code",
   "execution_count": null,
   "id": "7938dbc1",
   "metadata": {},
   "outputs": [],
   "source": []
  },
  {
   "cell_type": "markdown",
   "id": "a6b5d4e1",
   "metadata": {},
   "source": [
    "## Initialization"
   ]
  },
  {
   "cell_type": "code",
   "execution_count": 3,
   "id": "2ccdf101",
   "metadata": {},
   "outputs": [
    {
     "ename": "ModuleNotFoundError",
     "evalue": "No module named 'public_tests'",
     "output_type": "error",
     "traceback": [
      "\u001b[0;31m---------------------------------------------------------------------------\u001b[0m",
      "\u001b[0;31mModuleNotFoundError\u001b[0m                       Traceback (most recent call last)",
      "\u001b[0;32m/var/folders/rd/q2lzfdss4b167026m7l6h8pm0000gn/T/ipykernel_33121/2621888313.py\u001b[0m in \u001b[0;36m<module>\u001b[0;34m\u001b[0m\n\u001b[1;32m      3\u001b[0m \u001b[0;32mimport\u001b[0m \u001b[0msklearn\u001b[0m\u001b[0;34m\u001b[0m\u001b[0;34m\u001b[0m\u001b[0m\n\u001b[1;32m      4\u001b[0m \u001b[0;32mimport\u001b[0m \u001b[0msklearn\u001b[0m\u001b[0;34m.\u001b[0m\u001b[0mdatasets\u001b[0m\u001b[0;34m\u001b[0m\u001b[0;34m\u001b[0m\u001b[0m\n\u001b[0;32m----> 5\u001b[0;31m \u001b[0;32mfrom\u001b[0m \u001b[0mpublic_tests\u001b[0m \u001b[0;32mimport\u001b[0m \u001b[0;34m*\u001b[0m\u001b[0;34m\u001b[0m\u001b[0;34m\u001b[0m\u001b[0m\n\u001b[0m\u001b[1;32m      6\u001b[0m \u001b[0;32mfrom\u001b[0m \u001b[0minit_utils\u001b[0m \u001b[0;32mimport\u001b[0m \u001b[0msigmoid\u001b[0m\u001b[0;34m,\u001b[0m \u001b[0mrelu\u001b[0m\u001b[0;34m,\u001b[0m \u001b[0mcompute_loss\u001b[0m\u001b[0;34m,\u001b[0m \u001b[0mforward_propagation\u001b[0m\u001b[0;34m,\u001b[0m \u001b[0mbackward_propagation\u001b[0m\u001b[0;34m\u001b[0m\u001b[0;34m\u001b[0m\u001b[0m\n\u001b[1;32m      7\u001b[0m \u001b[0;32mfrom\u001b[0m \u001b[0minit_utils\u001b[0m \u001b[0;32mimport\u001b[0m \u001b[0mupdate_parameters\u001b[0m\u001b[0;34m,\u001b[0m \u001b[0mpredict\u001b[0m\u001b[0;34m,\u001b[0m \u001b[0mload_dataset\u001b[0m\u001b[0;34m,\u001b[0m \u001b[0mplot_decision_boundary\u001b[0m\u001b[0;34m,\u001b[0m \u001b[0mpredict_dec\u001b[0m\u001b[0;34m\u001b[0m\u001b[0;34m\u001b[0m\u001b[0m\n",
      "\u001b[0;31mModuleNotFoundError\u001b[0m: No module named 'public_tests'"
     ]
    }
   ],
   "source": [
    "import numpy as np\n",
    "import matplotlib.pyplot as plt\n",
    "import sklearn\n",
    "import sklearn.datasets\n",
    "from public_tests import *\n",
    "from init_utils import sigmoid, relu, compute_loss, forward_propagation, backward_propagation\n",
    "from init_utils import update_parameters, predict, load_dataset, plot_decision_boundary, predict_dec\n",
    "\n",
    "%matplotlib inline\n",
    "plt.rcParams['figure.figsize'] = (7.0, 4.0) # set default size of plots\n",
    "plt.rcParams['image.interpolation'] = 'nearest'\n",
    "plt.rcParams['image.cmap'] = 'gray'\n",
    "\n",
    "%load_ext autoreload\n",
    "%autoreload 2\n",
    "\n",
    "# load image dataset: blue/red dots in circles\n",
    "# train_X, train_Y, test_X, test_Y = load_dataset()"
   ]
  },
  {
   "cell_type": "markdown",
   "id": "7e97a5c1",
   "metadata": {},
   "source": [
    "### initialize_parameters_zeros"
   ]
  },
  {
   "cell_type": "markdown",
   "id": "f6507086",
   "metadata": {},
   "source": [
    "    for l in range(1, L):\n",
    "    # YOUR CODE STARTS HERE\n",
    "    parameters['W' + str(l)] = np.zeros((layers_dims[l],layers_dims[l-1]))\n",
    "    parameters['b' + str(l)] = np.zeros((layers_dims[l],1))\n",
    "    # YOUR CODE ENDS HERE"
   ]
  },
  {
   "cell_type": "markdown",
   "id": "cce02aa0",
   "metadata": {},
   "source": [
    "<font color='blue'>\n",
    "    \n",
    "**What you should remember**:\n",
    "- The weights $W^{[l]}$ should be initialized randomly to break symmetry. \n",
    "- However, it's okay to initialize the biases $b^{[l]}$ to zeros. Symmetry is still broken so long as $W^{[l]}$ is initialized randomly. "
   ]
  },
  {
   "cell_type": "markdown",
   "id": "fa34a64d",
   "metadata": {},
   "source": [
    "### Random Initialization"
   ]
  },
  {
   "cell_type": "markdown",
   "id": "98e807fb",
   "metadata": {},
   "source": [
    "<font color='blue'>\n",
    "    \n",
    "**In summary**:\n",
    "- Initializing weights to very large random values doesn't work well. \n",
    "- Initializing with small random values should do better. The important question is, how small should be these random values be? Let's find out up next!"
   ]
  },
  {
   "cell_type": "markdown",
   "id": "04c9edc3",
   "metadata": {},
   "source": [
    "**Optional Read:**\n",
    "\n",
    "\n",
    "The main difference between Gaussian variable (`numpy.random.randn()`) and uniform random variable is the distribution of the generated random numbers:\n",
    "\n",
    "- numpy.random.rand() produces numbers in a [uniform distribution](https://raw.githubusercontent.com/jahnog/deeplearning-notes/master/Course2/images/rand.jpg).\n",
    "- and numpy.random.randn() produces numbers in a [normal distribution](https://raw.githubusercontent.com/jahnog/deeplearning-notes/master/Course2/images/randn.jpg).\n",
    "\n",
    "When used for weight initialization, randn() helps most the weights to Avoid being close to the extremes, allocating most of them in the center of the range.\n",
    "\n",
    "An intuitive way to see it is, for example, if you take the [sigmoid() activation function](https://raw.githubusercontent.com/jahnog/deeplearning-notes/master/Course2/images/sigmoid.jpg).\n",
    "\n",
    "You’ll remember that the slope near 0 or near 1 is extremely small, so the weights near those extremes will converge much more slowly to the solution, and having most of them near the center will speed the convergence."
   ]
  },
  {
   "cell_type": "markdown",
   "id": "43379f32",
   "metadata": {},
   "source": [
    "### initialize_parameters_he"
   ]
  },
  {
   "cell_type": "markdown",
   "id": "cfb70615",
   "metadata": {},
   "source": [
    "Implement the following function to initialize your parameters with He initialization. This function is similar to the previous `initialize_parameters_random(...)`. The only difference is that instead of multiplying `np.random.randn(..,..)` by 10, you will multiply it by $\\sqrt{\\frac{2}{\\text{dimension of the previous layer}}}$, which is what He initialization recommends for layers with a ReLU activation. "
   ]
  },
  {
   "cell_type": "code",
   "execution_count": null,
   "id": "02d05f51",
   "metadata": {},
   "outputs": [],
   "source": [
    "def initialize_parameters_he(layers_dims):\n",
    "    \"\"\"\n",
    "    Arguments:\n",
    "    layer_dims -- python array (list) containing the size of each layer.\n",
    "    \n",
    "    Returns:\n",
    "    parameters -- python dictionary containing your parameters \"W1\", \"b1\", ..., \"WL\", \"bL\":\n",
    "                    W1 -- weight matrix of shape (layers_dims[1], layers_dims[0])\n",
    "                    b1 -- bias vector of shape (layers_dims[1], 1)\n",
    "                    ...\n",
    "                    WL -- weight matrix of shape (layers_dims[L], layers_dims[L-1])\n",
    "                    bL -- bias vector of shape (layers_dims[L], 1)\n",
    "    \"\"\"\n",
    "    \n",
    "    np.random.seed(3)\n",
    "    parameters = {}\n",
    "    L = len(layers_dims) - 1 # integer representing the number of layers\n",
    "     \n",
    "    for l in range(1, L + 1):\n",
    "        #(≈ 2 lines of code)\n",
    "        # parameters['W' + str(l)] = \n",
    "        # parameters['b' + str(l)] =\n",
    "        # YOUR CODE STARTS HERE\n",
    "        parameters['W' + str(l)] = np.random.randn(layers_dims[l],layers_dims[l-1])*np.sqrt(2./layers_dims[l-1])\n",
    "        parameters['b' + str(l)] = np.zeros((layers_dims[l],1))\n",
    "        # YOUR CODE ENDS HERE\n",
    "        \n",
    "    return parameters"
   ]
  },
  {
   "cell_type": "markdown",
   "id": "e469a0ea",
   "metadata": {},
   "source": [
    "You've tried three different types of initializations. For the same number of iterations and same hyperparameters, the comparison is:\n",
    "\n",
    "<table> \n",
    "    <tr>\n",
    "        <td>\n",
    "            <b>Model</b>\n",
    "        </td>\n",
    "        <td>\n",
    "            <b>Train accuracy</b>\n",
    "        </td>\n",
    "        <td>\n",
    "            <b>Problem/Comment</b>\n",
    "        </td>\n",
    "    </tr>\n",
    "        <td>\n",
    "        3-layer NN with zeros initialization\n",
    "        </td>\n",
    "        <td>\n",
    "        50%\n",
    "        </td>\n",
    "        <td>\n",
    "        fails to break symmetry\n",
    "        </td>\n",
    "    <tr>\n",
    "        <td>\n",
    "        3-layer NN with large random initialization\n",
    "        </td>\n",
    "        <td>\n",
    "        83%\n",
    "        </td>\n",
    "        <td>\n",
    "        too large weights \n",
    "        </td>\n",
    "    </tr>\n",
    "    <tr>\n",
    "        <td>\n",
    "        3-layer NN with He initialization\n",
    "        </td>\n",
    "        <td>\n",
    "        99%\n",
    "        </td>\n",
    "        <td>\n",
    "        recommended method\n",
    "        </td>\n",
    "    </tr>\n",
    "</table> "
   ]
  },
  {
   "cell_type": "markdown",
   "id": "7edcff75",
   "metadata": {},
   "source": [
    "**Congratulations**! You've completed this notebook on Initialization. \n",
    "\n",
    "Here's a quick recap of the main takeaways:\n",
    "\n",
    "<font color='blue'>\n",
    "    \n",
    "- Different initializations lead to very different results\n",
    "- Random initialization is used to break symmetry and make sure different hidden units can learn different things\n",
    "- Resist initializing to values that are too large!\n",
    "- He initialization works well for networks with ReLU activations"
   ]
  },
  {
   "cell_type": "code",
   "execution_count": null,
   "id": "6783073a",
   "metadata": {},
   "outputs": [],
   "source": []
  }
 ],
 "metadata": {
  "kernelspec": {
   "display_name": "Python 3 (ipykernel)",
   "language": "python",
   "name": "python3"
  },
  "language_info": {
   "codemirror_mode": {
    "name": "ipython",
    "version": 3
   },
   "file_extension": ".py",
   "mimetype": "text/x-python",
   "name": "python",
   "nbconvert_exporter": "python",
   "pygments_lexer": "ipython3",
   "version": "3.8.12"
  },
  "toc": {
   "base_numbering": 1,
   "nav_menu": {},
   "number_sections": true,
   "sideBar": true,
   "skip_h1_title": false,
   "title_cell": "Table of Contents",
   "title_sidebar": "Contents",
   "toc_cell": false,
   "toc_position": {},
   "toc_section_display": true,
   "toc_window_display": false
  }
 },
 "nbformat": 4,
 "nbformat_minor": 5
}
